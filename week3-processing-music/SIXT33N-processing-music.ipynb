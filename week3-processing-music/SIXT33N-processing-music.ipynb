{
 "cells": [
  {
   "cell_type": "markdown",
   "metadata": {},
   "source": [
    "# SIXT33N Project\n",
    "##  Phase 2: Processing Integration - Music\n",
    "\n",
    "### EE 16B: Designing Information Devices and Systems II, Spring 2016\n",
    "\n",
    "Written by Nathaniel Mailoa and Emily Naviasky (2016)\n",
    "\n",
    "nmailoa@berkeley.edu &emsp; enaviasky@berkeley.edu"
   ]
  },
  {
   "cell_type": "markdown",
   "metadata": {},
   "source": [
    "**Name 1**:\n",
    "\n",
    "**Login**: ee16b-\n",
    "\n",
    "\n",
    "**Name 2**:\n",
    "\n",
    "**Login**: ee16b-"
   ]
  },
  {
   "cell_type": "markdown",
   "metadata": {},
   "source": [
    "##Table of Contents\n",
    "\n",
    "* [Introduction](#intro)\n",
    "* [Part 1: Real Data Collection](#part1)\n",
    "* [Part 2: Real Data Classification](#part2)\n",
    "* [Part 3: Launchpad Implementation](#part3)"
   ]
  },
  {
   "cell_type": "markdown",
   "metadata": {},
   "source": [
    "<a id='intro'></a>\n",
    "## Introduction\n",
    "\n",
    "In this phase you will merge the microphone front-end circuit and the PCA classification that you built in the last phase. You will re-record sample data, now using your own microphone circuit. You will then re-run the PCA classification and, when you think it is good enough, implement it in the Launchpad. The Launchpad will print out the genre it identifies when you play some music. Since this phase requires both the circuit and the PCA components, one of the students working on this phase should be from the team that worked on the circuit and the other student from the team that worked on the PCA classification.\n",
    "\n",
    "As mentioned in the main project page, there is a checkpoint every week. Each checkpoint is worth 5 points, and if you are late you are awarded 4 points. The checkpoints are due in the beginning of the lab in the week after. For this phase, the checkpoints (marked **<span style=\"color:green\">green</span>** in the Notebook) are:\n",
    "- Week 1: Take new data and run through PCA, show GSI results in Python\n",
    "- Week 2: Classification reasonably accurate in Launchpad / LEDs responding to input"
   ]
  },
  {
   "cell_type": "markdown",
   "metadata": {},
   "source": [
    "<a id='part1'></a>\n",
    "## <span style=\"color:blue\">Part 1: Real Data Collection</span>\n",
    "\n",
    "### Materials\n",
    "- Microphone front-end circuit\n",
    "- Launchpad + USB"
   ]
  },
  {
   "cell_type": "markdown",
   "metadata": {},
   "source": [
    "In the previous section, you got a feel for which genres are easy to distinguish between. Now that you have chosen two genres, you will have to collect your real training data. You cannot use your old data because the noise and filtering of the micboard will be different from the front end you just built. You will have to collect a new final set of data, and you will want to collect more data for this stage than you did before.\n",
    "\n",
    "First, you will need to replace the micboard with your newly breadboarded mic circuit. Just as in the PCA phase, disconnect the 5V jumper on the Launchpad, because you will power the Launchpad from the power supply. <b>Make sure to keep the jumper on just the pin closest to the USB and put it back at the end of the lab.</b> Do not power up your circuit for now, we will connect the appropriate Launchpad pins to your circuit first:\n",
    "- P6.0 to the microphone front end circuit output\n",
    "- 3.3V pin to the 3V power rail of the breadboard (in particular to supply the buffer op-amp)\n",
    "- 5V pin to the 5V power rail of the breadboard\n",
    "- GND pin to the ground rail of the breadboard\n",
    "\n",
    "Next, use the bench power supply to provide 5V to the circuit. **<span color='red'>DO NOT FORGET TO SET THE CURRENT LIMIT.</span>** Before you start recording, use the oscilloscope to probe the output of the microphone circuit. Make sure the waveform averages to 1.65V (halfway between 0V and 3.3V) and the amplitude is large enough.\n",
    "\n",
    "Just as before, to collect music data, upload the provided sketch <b>`collect-data-music.ino`</b> from the PCA phase to your Launchpad. As a reminder, this sketch will record a snippet of signal, run FFT, and send it back to the PC through the USB cable.\n",
    "\n",
    "To record the data in the PC, run:\n",
    "\n",
    "<b>`python collect-data-music.py log.csv`</b>\n",
    "\n",
    "This will append the data streamed back by the Launchpad to `log.csv`. Collect data for the 2 genres you have successfully classified in the PCA phase. You might want to look at your circuit output on the scope while you record. Make sure that the music is not too loud and getting clipped, nor too soft and hard to pick out from noise. "
   ]
  },
  {
   "cell_type": "markdown",
   "metadata": {},
   "source": [
    "<a id='part2'></a>\n",
    "## <span style=\"color:blue\">Part 2: Real Data Classification</span>\n",
    "\n",
    "### Materials\n",
    "- PC"
   ]
  },
  {
   "cell_type": "markdown",
   "metadata": {},
   "source": [
    "Now that you have some data, go back to the iPython Notebook from the PCA phase and re-run the code. You should not need to modify anything - just run the whole notebook and evaluate the final clustering results. Are the genres clustering well? Is your classification accuracy still high enough? If your accuracy was previously very high but it is now much lower, you may have over fit your data. You may need to tweak some of your preprocessing in order to get good enough accuracy again. Go back and think of other ways to make the classification more robust or choose other genres that might be able to be classified better. If you're stuck, ask your GSI for help.\n",
    "\n",
    "If you're happy with the clustering, print out the PCA vector and mean vector (the mean of the columns). You will need them soon. "
   ]
  },
  {
   "cell_type": "markdown",
   "metadata": {},
   "source": [
    "<img width='30px' align='left' src=\"http://inst.eecs.berkeley.edu/~ee16b/sp16/lab_pics/check.png\">\n",
    "<br/>\n",
    "## <span style=\"color:green\">CHECKPOINT 1</span>\n",
    " <span style=\"color:green\">**Show your GSI the clustering of the data using real data.** Is your classification accuracy still high enough?</span>"
   ]
  },
  {
   "cell_type": "markdown",
   "metadata": {},
   "source": [
    "<a id='part3'></a>\n",
    "## <span style=\"color:blue\">Part 3: Launchpad Implementation</span>\n",
    "\n",
    "### Materials\n",
    "- Microphone front-end circuit\n",
    "- Launchpad + USB"
   ]
  },
  {
   "cell_type": "markdown",
   "metadata": {},
   "source": [
    "Your last step will be to implement your <b>data processing</b> and <b>classification</b> (just the projection, not the PCA) in the Launchpad sketch <b>`classify.ino`</b>. Energia uses the Arduino language, which is very close to C. If you need a refresher or a quick start, there are many C tutorials in the web. Since Energia does not have as many in-built functions as Python, you might have to write out the functions yourself. For example, a dot product should be written as:\n",
    "\n",
    "`float result = 0;`<br/>\n",
    "`for (i=0; i<LENGTH; i++){`<br/>\n",
    "&emsp; `result += vector1[i]*vector2[i];`<br/>\n",
    "`}`\n",
    "\n",
    "For debugging purposes, printing looks like the line below. The Launchpad will print the string out in Energia's Serial Monitor through the USB cable.\n",
    "\n",
    "<code>Serial.println(\"I'm being printed!\");</code>\n",
    "\n",
    "Open up <b>`classify.ino`</b> and get a feel for what some of the code is doing. Note that there are 2 code blocks (A1 and B) that you need to modify. <b>You should not have to change anything else outside these marked code blocks.</b> \n",
    "\n",
    "Before we code up the PCA projection, add your PCA vector and mean vector to the top of the sketch, in **`CODE BLOCK A1`.**\n",
    "\n",
    "The code in `setup()` is, as the name suggests, for setting up. This code will be run once and we have already implemented code for starting the data collection timer and the serial monitor.\n",
    "\n",
    "The main code in the Launchad sketch runs in a function called `loop()`. As its name suggests, the function gets called forever in a loop. This is the function where you will write most of your code. The first `if` statement in `loop()` checks if the data collection array is full, and if it is, performs a DFT on the data.\n",
    "\n",
    "Before **`CODE BLOCK B`**, the real and imaginary parts of the DFT are placed into two separate arrays named `re` and `im` when `fix_fft()` is called. This is the data that you will be working with. You will also note that a variable called loudness is also calculated above Block B. You will not have to use loudness yet, but you will need to use in in the final integration. \n",
    "\n",
    "Write code in  **`CODE BLOCK B`** to reflect the signal processing from the PCA classification phase. The built-in function `sqrt` might help. Remember that to project the processed data, you should subtract the data with the mean, then do a dot product with the new basis.\n",
    "\n",
    "Next, write some code to classify the resulting projection. This should be some simple `if` statements. If a genre is identified, print out the genre name in Serial.\n",
    "\n",
    "Lastly, add some code to turn on the green LED and turn off the red LED if genre 1 is identified and turn on the red LED and turn off the green LED if genre 2 is identified. To turn on or off the LEDs, see the sample code below.\n",
    "\n",
    "`digitalWrite(GREEN_LED, HIGH); // Turns on green LED`<br/>\n",
    "`digitalWrite(RED_LED, LOW); // Turns off red LED`\n",
    "\n",
    "If you have some trouble compiling the sketch (for example the RAM is not big enough), you might need to optimize your algorithms or reuse variables and arrays. Seek help from a GSI if this happens.\n",
    "\n",
    "Before running the code in the Launchpad, use the oscilloscope to probe the circuit output again and make sure that it still averages around 1.65V. Now upload the sketch to your Launchpad and run it. Open the Serial Monitor and press the reset button. Play a genre and the Launchpad should recognize it as it gets printed on the Serial Monitor! Make sure the LEDs turn on and off properly too.\n",
    "\n",
    "Verify that the classification works most of the time by playing the 2 genres. If it doesn't, think of other ways to improve your algorithm. Once you are happy with the genre identification, you're done! "
   ]
  },
  {
   "cell_type": "markdown",
   "metadata": {},
   "source": [
    "<img width='30px' align='left' src=\"http://inst.eecs.berkeley.edu/~ee16b/sp16/lab_pics/check.png\">\n",
    "<br/>\n",
    "## <span style=\"color:green\">CHECKPOINT 2</span>\n",
    " <span style=\"color:green\">**Show your GSI the Launchpad recognizing genres.** Make sure the green LED turns on if it classifies the first genre and the red LED turns on if it classifies the second genre.</span>"
   ]
  }
 ],
 "metadata": {
  "kernelspec": {
   "display_name": "Python 3",
   "language": "python",
   "name": "python3"
  },
  "language_info": {
   "codemirror_mode": {
    "name": "ipython",
    "version": 3
   },
   "file_extension": ".py",
   "mimetype": "text/x-python",
   "name": "python",
   "nbconvert_exporter": "python",
   "pygments_lexer": "ipython3",
   "version": "3.4.3"
  }
 },
 "nbformat": 4,
 "nbformat_minor": 0
}
